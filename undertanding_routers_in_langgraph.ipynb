{
  "nbformat": 4,
  "nbformat_minor": 0,
  "metadata": {
    "colab": {
      "provenance": []
    },
    "kernelspec": {
      "name": "python3",
      "display_name": "Python 3"
    },
    "language_info": {
      "name": "python"
    }
  },
  "cells": [
    {
      "cell_type": "code",
      "execution_count": 1,
      "metadata": {
        "id": "3XPCX_Fl5-kL",
        "colab": {
          "base_uri": "https://localhost:8080/"
        },
        "outputId": "5e52919f-0738-4b39-c016-abfecdae7cb3"
      },
      "outputs": [
        {
          "output_type": "stream",
          "name": "stdout",
          "text": [
            "\u001b[2K     \u001b[90m━━━━━━━━━━━━━━━━━━━━━━━━━━━━━━━━━━━━━━━━\u001b[0m \u001b[32m43.5/43.5 kB\u001b[0m \u001b[31m2.1 MB/s\u001b[0m eta \u001b[36m0:00:00\u001b[0m\n",
            "\u001b[2K   \u001b[90m━━━━━━━━━━━━━━━━━━━━━━━━━━━━━━━━━━━━━━━━\u001b[0m \u001b[32m155.3/155.3 kB\u001b[0m \u001b[31m4.3 MB/s\u001b[0m eta \u001b[36m0:00:00\u001b[0m\n",
            "\u001b[2K   \u001b[90m━━━━━━━━━━━━━━━━━━━━━━━━━━━━━━━━━━━━━━━━\u001b[0m \u001b[32m437.9/437.9 kB\u001b[0m \u001b[31m15.3 MB/s\u001b[0m eta \u001b[36m0:00:00\u001b[0m\n",
            "\u001b[2K   \u001b[90m━━━━━━━━━━━━━━━━━━━━━━━━━━━━━━━━━━━━━━━━\u001b[0m \u001b[32m44.3/44.3 kB\u001b[0m \u001b[31m2.6 MB/s\u001b[0m eta \u001b[36m0:00:00\u001b[0m\n",
            "\u001b[2K   \u001b[90m━━━━━━━━━━━━━━━━━━━━━━━━━━━━━━━━━━━━━━━━\u001b[0m \u001b[32m1.4/1.4 MB\u001b[0m \u001b[31m43.1 MB/s\u001b[0m eta \u001b[36m0:00:00\u001b[0m\n",
            "\u001b[2K   \u001b[90m━━━━━━━━━━━━━━━━━━━━━━━━━━━━━━━━━━━━━━━━\u001b[0m \u001b[32m44.2/44.2 kB\u001b[0m \u001b[31m2.1 MB/s\u001b[0m eta \u001b[36m0:00:00\u001b[0m\n",
            "\u001b[2K   \u001b[90m━━━━━━━━━━━━━━━━━━━━━━━━━━━━━━━━━━━━━━━━\u001b[0m \u001b[32m48.9/48.9 kB\u001b[0m \u001b[31m2.4 MB/s\u001b[0m eta \u001b[36m0:00:00\u001b[0m\n",
            "\u001b[2K   \u001b[90m━━━━━━━━━━━━━━━━━━━━━━━━━━━━━━━━━━━━━━━━\u001b[0m \u001b[32m223.6/223.6 kB\u001b[0m \u001b[31m11.7 MB/s\u001b[0m eta \u001b[36m0:00:00\u001b[0m\n",
            "\u001b[?25h\u001b[31mERROR: pip's dependency resolver does not currently take into account all the packages that are installed. This behaviour is the source of the following dependency conflicts.\n",
            "google-generativeai 0.8.5 requires google-ai-generativelanguage==0.6.15, but you have google-ai-generativelanguage 0.6.18 which is incompatible.\u001b[0m\u001b[31m\n",
            "\u001b[0m"
          ]
        }
      ],
      "source": [
        "!pip install  -q -U langgraph langchain_core langchain_google_genai requests"
      ]
    },
    {
      "cell_type": "code",
      "source": [
        "from google.colab import userdata\n",
        "GEMINI_API_KEY = userdata.get(\"GOOGLE_API_KEY\")"
      ],
      "metadata": {
        "id": "ePgTtkNg6Mh6"
      },
      "execution_count": 2,
      "outputs": []
    },
    {
      "cell_type": "code",
      "source": [
        "# Creating LLM INSTANCE\n",
        "from langchain_google_genai import ChatGoogleGenerativeAI\n",
        "llm = ChatGoogleGenerativeAI(\n",
        "    api_key = GEMINI_API_KEY,\n",
        "    model = \"gemini-2.0-flash\",\n",
        ")"
      ],
      "metadata": {
        "id": "5bt89igv62Za"
      },
      "execution_count": 3,
      "outputs": []
    },
    {
      "cell_type": "code",
      "source": [
        "# creating tools\n",
        "import requests\n",
        "def tell_me_joke():\n",
        "  \"\"\"Retrieve A joke from an API\n",
        "  and Then Return it\n",
        "  \"\"\"\n",
        "  res = requests.get(\"https://sv443.net/jokeapi/v2/joke/Any\").json()\n",
        "  if \"joke\" in res:\n",
        "    return res[\"joke\"]\n",
        "  else:\n",
        "    return res[\"setup\"] +  res[\"delivery\"]\n",
        "tell_me_joke()\n",
        "llm_with_tools = llm.bind_tools([tell_me_joke])"
      ],
      "metadata": {
        "id": "6guWzeyc7vm_"
      },
      "execution_count": 31,
      "outputs": []
    },
    {
      "cell_type": "code",
      "source": [
        "from langgraph.graph import StateGraph,END,START, add_messages,MessagesState\n",
        "from langchain_core.messages import HumanMessage\n",
        "from langchain_core.messages import AnyMessage\n",
        "from langgraph.prebuilt import  tools_condition,ToolNode\n",
        "from typing import TypedDict, Annotated\n",
        "class MessagesState(TypedDict):\n",
        "  messages: Annotated[list[AnyMessage],add_messages]\n",
        "def llmm_with_tools(state:MessagesState):\n",
        "  return {\"messages\":llm_with_tools.invoke(state[\"messages\"])}\n",
        "builder = StateGraph(MessagesState)\n",
        "builder.add_node(\"llmm_with_tools\",llmm_with_tools)\n",
        "builder.add_node(\"tools\",ToolNode([tell_me_joke]))\n",
        "builder.add_edge(START,\"llmm_with_tools\")\n",
        "builder.add_conditional_edges(\"llmm_with_tools\", tools_condition)\n",
        "builder.add_edge(\"tools\",END)\n",
        "graph = builder.compile()\n",
        "from IPython.display import display,Image\n",
        "display(Image(graph.get_graph().draw_mermaid_png()))"
      ],
      "metadata": {
        "colab": {
          "base_uri": "https://localhost:8080/",
          "height": 350
        },
        "id": "Mm6Q3XhsRHpw",
        "outputId": "79a523e6-44aa-4c0e-e9fb-9fc35a3d288a"
      },
      "execution_count": 65,
      "outputs": [
        {
          "output_type": "display_data",
          "data": {
            "image/png": "[encoded data removed]",
            "text/plain": [
              "<IPython.core.display.Image object>"
            ]
          },
          "metadata": {}
        }
      ]
    },
    {
      "cell_type": "code",
      "source": [
        "messages = graph.invoke({\"messages\":HumanMessage(content=\"who is Khan\")})\n",
        "from pprint import pprint\n",
        "for m in messages[\"messages\"]:\n",
        "  m.pretty_print()"
      ],
      "metadata": {
        "colab": {
          "base_uri": "https://localhost:8080/"
        },
        "id": "CMMStS61TANK",
        "outputId": "aa6032b1-8460-4ed4-8650-9abb8f142983"
      },
      "execution_count": 67,
      "outputs": [
        {
          "output_type": "stream",
          "name": "stdout",
          "text": [
            "================================\u001b[1m Human Message \u001b[0m=================================\n",
            "\n",
            "who is Khan\n",
            "==================================\u001b[1m Ai Message \u001b[0m==================================\n",
            "\n",
            "I am sorry, I cannot provide information about who Khan is. I can tell you a joke if you want.\n"
          ]
        }
      ]
    },
    {
      "cell_type": "code",
      "source": [
        "!pip install langchain_openai"
      ],
      "metadata": {
        "colab": {
          "base_uri": "https://localhost:8080/"
        },
        "id": "q6WNBa0DUW2a",
        "outputId": "a9dd145f-a574-4b4f-ef78-b73d53a1257c"
      },
      "execution_count": 68,
      "outputs": [
        {
          "output_type": "stream",
          "name": "stdout",
          "text": [
            "Collecting langchain_openai\n",
            "  Downloading langchain_openai-0.3.17-py3-none-any.whl.metadata (2.3 kB)\n",
            "Requirement already satisfied: langchain-core<1.0.0,>=0.3.59 in /usr/local/lib/python3.11/dist-packages (from langchain_openai) (0.3.60)\n",
            "Requirement already satisfied: openai<2.0.0,>=1.68.2 in /usr/local/lib/python3.11/dist-packages (from langchain_openai) (1.78.1)\n",
            "Requirement already satisfied: tiktoken<1,>=0.7 in /usr/local/lib/python3.11/dist-packages (from langchain_openai) (0.9.0)\n",
            "Requirement already satisfied: langsmith<0.4,>=0.1.126 in /usr/local/lib/python3.11/dist-packages (from langchain-core<1.0.0,>=0.3.59->langchain_openai) (0.3.42)\n",
            "Requirement already satisfied: tenacity!=8.4.0,<10.0.0,>=8.1.0 in /usr/local/lib/python3.11/dist-packages (from langchain-core<1.0.0,>=0.3.59->langchain_openai) (9.1.2)\n",
            "Requirement already satisfied: jsonpatch<2.0,>=1.33 in /usr/local/lib/python3.11/dist-packages (from langchain-core<1.0.0,>=0.3.59->langchain_openai) (1.33)\n",
            "Requirement already satisfied: PyYAML>=5.3 in /usr/local/lib/python3.11/dist-packages (from langchain-core<1.0.0,>=0.3.59->langchain_openai) (6.0.2)\n",
            "Requirement already satisfied: packaging<25,>=23.2 in /usr/local/lib/python3.11/dist-packages (from langchain-core<1.0.0,>=0.3.59->langchain_openai) (24.2)\n",
            "Requirement already satisfied: typing-extensions>=4.7 in /usr/local/lib/python3.11/dist-packages (from langchain-core<1.0.0,>=0.3.59->langchain_openai) (4.13.2)\n",
            "Requirement already satisfied: pydantic>=2.7.4 in /usr/local/lib/python3.11/dist-packages (from langchain-core<1.0.0,>=0.3.59->langchain_openai) (2.11.4)\n",
            "Requirement already satisfied: anyio<5,>=3.5.0 in /usr/local/lib/python3.11/dist-packages (from openai<2.0.0,>=1.68.2->langchain_openai) (4.9.0)\n",
            "Requirement already satisfied: distro<2,>=1.7.0 in /usr/local/lib/python3.11/dist-packages (from openai<2.0.0,>=1.68.2->langchain_openai) (1.9.0)\n",
            "Requirement already satisfied: httpx<1,>=0.23.0 in /usr/local/lib/python3.11/dist-packages (from openai<2.0.0,>=1.68.2->langchain_openai) (0.28.1)\n",
            "Requirement already satisfied: jiter<1,>=0.4.0 in /usr/local/lib/python3.11/dist-packages (from openai<2.0.0,>=1.68.2->langchain_openai) (0.9.0)\n",
            "Requirement already satisfied: sniffio in /usr/local/lib/python3.11/dist-packages (from openai<2.0.0,>=1.68.2->langchain_openai) (1.3.1)\n",
            "Requirement already satisfied: tqdm>4 in /usr/local/lib/python3.11/dist-packages (from openai<2.0.0,>=1.68.2->langchain_openai) (4.67.1)\n",
            "Requirement already satisfied: regex>=2022.1.18 in /usr/local/lib/python3.11/dist-packages (from tiktoken<1,>=0.7->langchain_openai) (2024.11.6)\n",
            "Requirement already satisfied: requests>=2.26.0 in /usr/local/lib/python3.11/dist-packages (from tiktoken<1,>=0.7->langchain_openai) (2.32.3)\n",
            "Requirement already satisfied: idna>=2.8 in /usr/local/lib/python3.11/dist-packages (from anyio<5,>=3.5.0->openai<2.0.0,>=1.68.2->langchain_openai) (3.10)\n",
            "Requirement already satisfied: certifi in /usr/local/lib/python3.11/dist-packages (from httpx<1,>=0.23.0->openai<2.0.0,>=1.68.2->langchain_openai) (2025.4.26)\n",
            "Requirement already satisfied: httpcore==1.* in /usr/local/lib/python3.11/dist-packages (from httpx<1,>=0.23.0->openai<2.0.0,>=1.68.2->langchain_openai) (1.0.9)\n",
            "Requirement already satisfied: h11>=0.16 in /usr/local/lib/python3.11/dist-packages (from httpcore==1.*->httpx<1,>=0.23.0->openai<2.0.0,>=1.68.2->langchain_openai) (0.16.0)\n",
            "Requirement already satisfied: jsonpointer>=1.9 in /usr/local/lib/python3.11/dist-packages (from jsonpatch<2.0,>=1.33->langchain-core<1.0.0,>=0.3.59->langchain_openai) (3.0.0)\n",
            "Requirement already satisfied: orjson<4.0.0,>=3.9.14 in /usr/local/lib/python3.11/dist-packages (from langsmith<0.4,>=0.1.126->langchain-core<1.0.0,>=0.3.59->langchain_openai) (3.10.18)\n",
            "Requirement already satisfied: requests-toolbelt<2.0.0,>=1.0.0 in /usr/local/lib/python3.11/dist-packages (from langsmith<0.4,>=0.1.126->langchain-core<1.0.0,>=0.3.59->langchain_openai) (1.0.0)\n",
            "Requirement already satisfied: zstandard<0.24.0,>=0.23.0 in /usr/local/lib/python3.11/dist-packages (from langsmith<0.4,>=0.1.126->langchain-core<1.0.0,>=0.3.59->langchain_openai) (0.23.0)\n",
            "Requirement already satisfied: annotated-types>=0.6.0 in /usr/local/lib/python3.11/dist-packages (from pydantic>=2.7.4->langchain-core<1.0.0,>=0.3.59->langchain_openai) (0.7.0)\n",
            "Requirement already satisfied: pydantic-core==2.33.2 in /usr/local/lib/python3.11/dist-packages (from pydantic>=2.7.4->langchain-core<1.0.0,>=0.3.59->langchain_openai) (2.33.2)\n",
            "Requirement already satisfied: typing-inspection>=0.4.0 in /usr/local/lib/python3.11/dist-packages (from pydantic>=2.7.4->langchain-core<1.0.0,>=0.3.59->langchain_openai) (0.4.0)\n",
            "Requirement already satisfied: charset-normalizer<4,>=2 in /usr/local/lib/python3.11/dist-packages (from requests>=2.26.0->tiktoken<1,>=0.7->langchain_openai) (3.4.2)\n",
            "Requirement already satisfied: urllib3<3,>=1.21.1 in /usr/local/lib/python3.11/dist-packages (from requests>=2.26.0->tiktoken<1,>=0.7->langchain_openai) (2.4.0)\n",
            "Downloading langchain_openai-0.3.17-py3-none-any.whl (62 kB)\n",
            "\u001b[2K   \u001b[90m━━━━━━━━━━━━━━━━━━━━━━━━━━━━━━━━━━━━━━━━\u001b[0m \u001b[32m62.9/62.9 kB\u001b[0m \u001b[31m1.2 MB/s\u001b[0m eta \u001b[36m0:00:00\u001b[0m\n",
            "\u001b[?25hInstalling collected packages: langchain_openai\n",
            "Successfully installed langchain_openai-0.3.17\n"
          ]
        }
      ]
    },
    {
      "cell_type": "code",
      "source": [
        "from langchain_google_genai import ChatGoogleGenerativeAI\n",
        "from google.colab import userdata\n",
        "\n",
        "llm = ChatGoogleGenerativeAI(\n",
        "    api_key=GEMINI_API_KEY,\n",
        "    model=\"gemini-2.0-flash\"\n",
        ")\n",
        "message = llm.invoke([HumanMessage(content=\"who is Khan\")])\n",
        "message.pretty_print()"
      ],
      "metadata": {
        "colab": {
          "base_uri": "https://localhost:8080/"
        },
        "id": "gtb8D_1UkH_M",
        "outputId": "b9676823-8e29-469e-96cd-2dcc676f5f96"
      },
      "execution_count": 77,
      "outputs": [
        {
          "output_type": "stream",
          "name": "stdout",
          "text": [
            "==================================\u001b[1m Ai Message \u001b[0m==================================\n",
            "\n",
            "\"Khan\" is a title of Mongol origin, meaning \"ruler\" or \"leader.\" It's a common surname and title in many parts of Asia and the Middle East. Therefore, there isn't one single \"Khan.\" Here's a breakdown of what you might be referring to:\n",
            "\n",
            "*   **Genghis Khan (Temüjin):** Perhaps the most famous Khan, he was the founder and Great Khan (Emperor) of the Mongol Empire, which became the largest contiguous empire in history after his death.\n",
            "\n",
            "*   **Kublai Khan:** Grandson of Genghis Khan and founder of the Yuan dynasty in China.\n",
            "\n",
            "*   **Other historical Khans:** Many other rulers and leaders throughout history have used the title \"Khan,\" particularly in Central Asia, Persia, and India.\n",
            "\n",
            "*   **As a surname:** \"Khan\" is a very common surname, especially in South Asia (Pakistan, India, Bangladesh), Afghanistan, and other parts of Asia and the Middle East. People with the surname \"Khan\" are often, but not always, descended from people who held positions of power or influence in the past.\n",
            "\n",
            "To give you a more specific answer, I need more information. Could you tell me:\n",
            "\n",
            "*   **What is the context in which you heard the name \"Khan\"?** (e.g., history class, a movie, a book, a news article)\n",
            "*   **Do you have any other details about this person?** (e.g., their profession, nationality, time period)\n",
            "\n",
            "With more information, I can provide a more accurate and helpful answer.\n"
          ]
        }
      ]
    },
    {
      "cell_type": "code",
      "source": [
        "def multiply(a:int,b:int) -> int:\n",
        "  \"\"\"Mutiply a and b\n",
        "  Args:\n",
        "       a : first int\n",
        "       b: second int\n",
        "  return a *b\n",
        "  \"\"\"\n",
        "  return a*b\n",
        "llm_with_tools = llm.bind_tools([multiply])\n",
        "message = llm_with_tools.invoke([HumanMessage(content=\"what is 2 multiply 2\")])\n",
        "message"
      ],
      "metadata": {
        "colab": {
          "base_uri": "https://localhost:8080/"
        },
        "id": "42F-0nd0khRI",
        "outputId": "c020f8c8-1d0f-4d22-ff4c-8b1ff54f8c9f"
      },
      "execution_count": 78,
      "outputs": [
        {
          "output_type": "execute_result",
          "data": {
            "text/plain": [
              "AIMessage(content='', additional_kwargs={'function_call': {'name': 'multiply', 'arguments': '{\"a\": 2.0, \"b\": 2.0}'}}, response_metadata={'prompt_feedback': {'block_reason': 0, 'safety_ratings': []}, 'finish_reason': 'STOP', 'model_name': 'gemini-2.0-flash', 'safety_ratings': []}, id='run--1fdc151b-3976-4502-927c-f9cb3c5f27c6-0', tool_calls=[{'name': 'multiply', 'args': {'a': 2.0, 'b': 2.0}, 'id': '9ad8e1eb-22c8-4466-9bc6-854f5e8447a7', 'type': 'tool_call'}], usage_metadata={'input_tokens': 41, 'output_tokens': 5, 'total_tokens': 46, 'input_token_details': {'cache_read': 0}})"
            ]
          },
          "metadata": {},
          "execution_count": 78
        }
      ]
    },
    {
      "cell_type": "code",
      "source": [
        "# let make state\n",
        "from langgraph.graph.message import MessagesState\n",
        "from langchain_core.messages import AnyMessage\n",
        "from langgraph.graph.message import add_messages\n",
        "from typing import TypedDict, Annotated\n",
        "class MessagesState(TypedDict):\n",
        "  messages:Annotated[list[AnyMessage],add_messages]"
      ],
      "metadata": {
        "id": "n1k2hdf-l015"
      },
      "execution_count": 79,
      "outputs": []
    },
    {
      "cell_type": "code",
      "source": [
        "# let make a node\n",
        "def llm_calling_tools(state:MessagesState):\n",
        "  return {\"messages\":[llm_with_tools.invoke(state[\"messages\"])]}"
      ],
      "metadata": {
        "id": "UlDQ2P_am7pT"
      },
      "execution_count": 80,
      "outputs": []
    },
    {
      "cell_type": "code",
      "source": [
        "from langgraph.graph import StateGraph,END,START\n",
        "from langchain_core.messages import HumanMessage\n",
        "from langchain_core.messages import AnyMessage\n",
        "from langgraph.prebuilt import  tools_condition,ToolNode\n",
        "builder = StateGraph(MessagesState)\n",
        "builder.add_node(\"llm_calling_tools\",llm_calling_tools)\n",
        "builder.add_node(\"tools\",ToolNode([multiply]))\n",
        "builder.add_edge(START,\"llm_calling_tools\")\n",
        "builder.add_conditional_edges(\"llm_calling_tools\",\n",
        "#If the latest message (result) from assistant is a tool call tools condition coutes to tools\n",
        "#If the latest message (result) from assistant is a not a tool call tools condition routes to END\n",
        "                              tools_condition,)\n",
        "builder.add_edge(\"tools\",END)\n",
        "graph = builder.compile()"
      ],
      "metadata": {
        "id": "dsMHI7TdnPJ5"
      },
      "execution_count": 97,
      "outputs": []
    },
    {
      "cell_type": "code",
      "source": [
        "m = graph.invoke({\"messages\":[HumanMessage(content=\"What is 2 * 2\")]})\n",
        "from pprint import pprint\n",
        "for message in m[\"messages\"]:\n",
        "  message.pretty_print()"
      ],
      "metadata": {
        "colab": {
          "base_uri": "https://localhost:8080/"
        },
        "id": "PKZXCkA6oEH-",
        "outputId": "b9efb6df-bace-4c51-a9c8-910042aa92f6"
      },
      "execution_count": 98,
      "outputs": [
        {
          "output_type": "stream",
          "name": "stdout",
          "text": [
            "================================\u001b[1m Human Message \u001b[0m=================================\n",
            "\n",
            "What is 2 * 2\n",
            "==================================\u001b[1m Ai Message \u001b[0m==================================\n",
            "Tool Calls:\n",
            "  multiply (601dea42-72b8-491d-9058-571697bf2434)\n",
            " Call ID: 601dea42-72b8-491d-9058-571697bf2434\n",
            "  Args:\n",
            "    a: 2.0\n",
            "    b: 2.0\n",
            "=================================\u001b[1m Tool Message \u001b[0m=================================\n",
            "Name: multiply\n",
            "\n",
            "4\n"
          ]
        }
      ]
    },
    {
      "cell_type": "code",
      "source": [
        "m = graph.invoke({\"messages\":[HumanMessage(content=\"Hello world\")]})\n",
        "from pprint import pprint\n",
        "for message in m[\"messages\"]:\n",
        "  message.pretty_print()"
      ],
      "metadata": {
        "colab": {
          "base_uri": "https://localhost:8080/"
        },
        "id": "dedDnJkYozqg",
        "outputId": "9b5f2bf9-2cc5-4649-eca6-f40811537066"
      },
      "execution_count": 101,
      "outputs": [
        {
          "output_type": "stream",
          "name": "stdout",
          "text": [
            "================================\u001b[1m Human Message \u001b[0m=================================\n",
            "\n",
            "Hello world\n",
            "==================================\u001b[1m Ai Message \u001b[0m==================================\n",
            "\n",
            "Hello! How can I help you today?\n"
          ]
        }
      ]
    },
    {
      "cell_type": "code",
      "source": [
        "\n",
        "\n"
      ],
      "metadata": {
        "id": "74NJgQk1pr0M"
      },
      "execution_count": null,
      "outputs": []
    }
  ]
}