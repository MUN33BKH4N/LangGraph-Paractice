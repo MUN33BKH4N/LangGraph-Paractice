{
 "cells": [
  {
   "cell_type": "code",
   "execution_count": 1,
   "id": "0f9feccc",
   "metadata": {},
   "outputs": [],
   "source": [
    "from langgraph.graph import StateGraph \n",
    "from langgraph.graph.state import END,START\n",
    "from typing import TypedDict,Literal\n",
    "import random"
   ]
  },
  {
   "cell_type": "code",
   "execution_count": 2,
   "id": "7a512492",
   "metadata": {},
   "outputs": [],
   "source": [
    "# making state\n",
    "class State(TypedDict):\n",
    "    user_query:str"
   ]
  },
  {
   "cell_type": "code",
   "execution_count": 3,
   "id": "7849b184",
   "metadata": {},
   "outputs": [],
   "source": [
    "# making nodes\n",
    "def node_1(state) -> dict:\n",
    "    print(\"--Node 1---\")\n",
    "    return {\"user_query\":state[\"user_query\"] + \" I am\"}\n",
    "def node_2(state) -> dict:\n",
    "    print(\"--Node 2--\")\n",
    "    return {\"user_query\":state[\"user_query\"] + \" Happy\"}\n",
    "def node_3(state) -> dict:\n",
    "    print(\"--Node 3--\")\n",
    "    return {\"user_query\":state[\"user_query\"] + \" Sad\"}"
   ]
  },
  {
   "cell_type": "code",
   "execution_count": 4,
   "id": "14954816",
   "metadata": {},
   "outputs": [],
   "source": [
    "# making Conditonal Edges Fun\n",
    "def mood_decide(state):\n",
    "    user_input = state[\"user_query\"]\n",
    "    if random.random() > 0.5:\n",
    "        return \"node_2\"\n",
    "    return \"node_3\""
   ]
  },
  {
   "cell_type": "code",
   "execution_count": 5,
   "id": "2ae4c7fc",
   "metadata": {},
   "outputs": [],
   "source": [
    "# making edges\n",
    "builder = StateGraph(state_schema=State)\n",
    "builder.add_node(\"node_1\",node_1)\n",
    "builder.add_node(\"node_2\",node_2)\n",
    "builder.add_node(\"node_3\",node_3)\n",
    "builder.add_edge(START,\"node_1\")\n",
    "builder.add_conditional_edges(\"node_1\",mood_decide)\n",
    "builder.add_edge(\"node_2\",END)\n",
    "builder.add_edge(\"node_3\",END)\n",
    "graph = builder.compile()"
   ]
  },
  {
   "cell_type": "code",
   "execution_count": 6,
   "id": "7acd6004",
   "metadata": {},
   "outputs": [
    {
     "data": {
      "image/png": "[encoded data removed]",
      "text/plain": [
       "<IPython.core.display.Image object>"
      ]
     },
     "metadata": {},
     "output_type": "display_data"
    }
   ],
   "source": [
    "from IPython.display import display, Image\n",
    "display(Image(graph.get_graph().draw_mermaid_png()))"
   ]
  },
  {
   "cell_type": "code",
   "execution_count": 8,
   "id": "1319511c",
   "metadata": {},
   "outputs": [
    {
     "name": "stdout",
     "output_type": "stream",
     "text": [
      "--Node 1---\n",
      "--Node 3--\n",
      "{'user_query': 'i am khan I am Sad'}\n"
     ]
    }
   ],
   "source": [
    "while True:\n",
    "    ask = input(\"who are You :\")\n",
    "    if ask.lower() == \"x\":\n",
    "        break\n",
    "    else:\n",
    "        prompt = State(user_query=ask)\n",
    "        result = graph.invoke(prompt)\n",
    "        print(result)\n",
    "    "
   ]
  },
  {
   "cell_type": "code",
   "execution_count": null,
   "id": "aeab5b69",
   "metadata": {},
   "outputs": [],
   "source": []
  }
 ],
 "metadata": {
  "kernelspec": {
   "display_name": "Python 3",
   "language": "python",
   "name": "python3"
  },
  "language_info": {
   "codemirror_mode": {
    "name": "ipython",
    "version": 3
   },
   "file_extension": ".py",
   "mimetype": "text/x-python",
   "name": "python",
   "nbconvert_exporter": "python",
   "pygments_lexer": "ipython3",
   "version": "3.13.0"
  }
 },
 "nbformat": 4,
 "nbformat_minor": 5
}
