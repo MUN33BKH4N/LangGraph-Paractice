{
  "cells": [
    {
      "cell_type": "code",
      "source": [
        "pip install langgraph"
      ],
      "metadata": {
        "id": "uUNvAvuYX-vz",
        "outputId": "2aec91d2-4217-458e-ae0a-d3917c02a9d7",
        "colab": {
          "base_uri": "https://localhost:8080/"
        }
      },
      "id": "uUNvAvuYX-vz",
      "execution_count": 14,
      "outputs": [
        {
          "output_type": "stream",
          "name": "stdout",
          "text": [
            "Requirement already satisfied: langgraph in /usr/local/lib/python3.11/dist-packages (0.4.5)\n",
            "Requirement already satisfied: langchain-core>=0.1 in /usr/local/lib/python3.11/dist-packages (from langgraph) (0.3.59)\n",
            "Requirement already satisfied: langgraph-checkpoint<3.0.0,>=2.0.26 in /usr/local/lib/python3.11/dist-packages (from langgraph) (2.0.26)\n",
            "Requirement already satisfied: langgraph-prebuilt>=0.1.8 in /usr/local/lib/python3.11/dist-packages (from langgraph) (0.1.8)\n",
            "Requirement already satisfied: langgraph-sdk>=0.1.42 in /usr/local/lib/python3.11/dist-packages (from langgraph) (0.1.69)\n",
            "Requirement already satisfied: pydantic>=2.7.4 in /usr/local/lib/python3.11/dist-packages (from langgraph) (2.11.4)\n",
            "Requirement already satisfied: xxhash<4.0.0,>=3.5.0 in /usr/local/lib/python3.11/dist-packages (from langgraph) (3.5.0)\n",
            "Requirement already satisfied: langsmith<0.4,>=0.1.125 in /usr/local/lib/python3.11/dist-packages (from langchain-core>=0.1->langgraph) (0.3.42)\n",
            "Requirement already satisfied: tenacity!=8.4.0,<10.0.0,>=8.1.0 in /usr/local/lib/python3.11/dist-packages (from langchain-core>=0.1->langgraph) (9.1.2)\n",
            "Requirement already satisfied: jsonpatch<2.0,>=1.33 in /usr/local/lib/python3.11/dist-packages (from langchain-core>=0.1->langgraph) (1.33)\n",
            "Requirement already satisfied: PyYAML>=5.3 in /usr/local/lib/python3.11/dist-packages (from langchain-core>=0.1->langgraph) (6.0.2)\n",
            "Requirement already satisfied: packaging<25,>=23.2 in /usr/local/lib/python3.11/dist-packages (from langchain-core>=0.1->langgraph) (24.2)\n",
            "Requirement already satisfied: typing-extensions>=4.7 in /usr/local/lib/python3.11/dist-packages (from langchain-core>=0.1->langgraph) (4.13.2)\n",
            "Requirement already satisfied: ormsgpack<2.0.0,>=1.8.0 in /usr/local/lib/python3.11/dist-packages (from langgraph-checkpoint<3.0.0,>=2.0.26->langgraph) (1.9.1)\n",
            "Requirement already satisfied: httpx>=0.25.2 in /usr/local/lib/python3.11/dist-packages (from langgraph-sdk>=0.1.42->langgraph) (0.28.1)\n",
            "Requirement already satisfied: orjson>=3.10.1 in /usr/local/lib/python3.11/dist-packages (from langgraph-sdk>=0.1.42->langgraph) (3.10.18)\n",
            "Requirement already satisfied: annotated-types>=0.6.0 in /usr/local/lib/python3.11/dist-packages (from pydantic>=2.7.4->langgraph) (0.7.0)\n",
            "Requirement already satisfied: pydantic-core==2.33.2 in /usr/local/lib/python3.11/dist-packages (from pydantic>=2.7.4->langgraph) (2.33.2)\n",
            "Requirement already satisfied: typing-inspection>=0.4.0 in /usr/local/lib/python3.11/dist-packages (from pydantic>=2.7.4->langgraph) (0.4.0)\n",
            "Requirement already satisfied: anyio in /usr/local/lib/python3.11/dist-packages (from httpx>=0.25.2->langgraph-sdk>=0.1.42->langgraph) (4.9.0)\n",
            "Requirement already satisfied: certifi in /usr/local/lib/python3.11/dist-packages (from httpx>=0.25.2->langgraph-sdk>=0.1.42->langgraph) (2025.4.26)\n",
            "Requirement already satisfied: httpcore==1.* in /usr/local/lib/python3.11/dist-packages (from httpx>=0.25.2->langgraph-sdk>=0.1.42->langgraph) (1.0.9)\n",
            "Requirement already satisfied: idna in /usr/local/lib/python3.11/dist-packages (from httpx>=0.25.2->langgraph-sdk>=0.1.42->langgraph) (3.10)\n",
            "Requirement already satisfied: h11>=0.16 in /usr/local/lib/python3.11/dist-packages (from httpcore==1.*->httpx>=0.25.2->langgraph-sdk>=0.1.42->langgraph) (0.16.0)\n",
            "Requirement already satisfied: jsonpointer>=1.9 in /usr/local/lib/python3.11/dist-packages (from jsonpatch<2.0,>=1.33->langchain-core>=0.1->langgraph) (3.0.0)\n",
            "Requirement already satisfied: requests<3,>=2 in /usr/local/lib/python3.11/dist-packages (from langsmith<0.4,>=0.1.125->langchain-core>=0.1->langgraph) (2.32.3)\n",
            "Requirement already satisfied: requests-toolbelt<2.0.0,>=1.0.0 in /usr/local/lib/python3.11/dist-packages (from langsmith<0.4,>=0.1.125->langchain-core>=0.1->langgraph) (1.0.0)\n",
            "Requirement already satisfied: zstandard<0.24.0,>=0.23.0 in /usr/local/lib/python3.11/dist-packages (from langsmith<0.4,>=0.1.125->langchain-core>=0.1->langgraph) (0.23.0)\n",
            "Requirement already satisfied: charset-normalizer<4,>=2 in /usr/local/lib/python3.11/dist-packages (from requests<3,>=2->langsmith<0.4,>=0.1.125->langchain-core>=0.1->langgraph) (3.4.2)\n",
            "Requirement already satisfied: urllib3<3,>=1.21.1 in /usr/local/lib/python3.11/dist-packages (from requests<3,>=2->langsmith<0.4,>=0.1.125->langchain-core>=0.1->langgraph) (2.4.0)\n",
            "Requirement already satisfied: sniffio>=1.1 in /usr/local/lib/python3.11/dist-packages (from anyio->httpx>=0.25.2->langgraph-sdk>=0.1.42->langgraph) (1.3.1)\n"
          ]
        }
      ]
    },
    {
      "cell_type": "markdown",
      "source": [
        "#Definig State Schema Using Typing  Module"
      ],
      "metadata": {
        "id": "XIQXU4oqiQvC"
      },
      "id": "XIQXU4oqiQvC"
    },
    {
      "cell_type": "code",
      "source": [
        "from typing import TypedDict, Literal,Annotated\n",
        "class TypedDictState(TypedDict):\n",
        "  car_name: str\n",
        "  car_make: str"
      ],
      "metadata": {
        "id": "HbtLE_EFYA7x"
      },
      "id": "HbtLE_EFYA7x",
      "execution_count": 53,
      "outputs": []
    },
    {
      "cell_type": "code",
      "source": [
        "# making nodes\n",
        "def main_node(state):\n",
        "  print(\"--Node 1--\")\n",
        "  return {\"car_name\":state[\"car_name\"] + \" is made by\"}\n",
        "def honda_node(state):\n",
        "  print(\"--Node 2--\")\n",
        "  return {\"car_make\":\"Honda\"}\n",
        "def toyota_node(state):\n",
        "  print(\"--Node 3--\")\n",
        "  return {\"car_make\":\"Toyota\"}\n",
        "def hyundai_node(state):\n",
        "  print(\"--Node 4--\")\n",
        "  return {\"car_make\":\"Hyundai\"}\n",
        ""
      ],
      "metadata": {
        "id": "HyZmgzf4YmHP"
      },
      "id": "HyZmgzf4YmHP",
      "execution_count": 59,
      "outputs": []
    },
    {
      "cell_type": "code",
      "source": [
        "import random\n",
        "def decide_node(state):\n",
        "  if \"civic\" in state[\"car_name\"].lower():\n",
        "    return \"honda_node\"\n",
        "  elif \"camry\" in state[\"car_name\"].lower():\n",
        "    return \"toyota_node\"\n",
        "  elif \"sonata\" in state[\"car_name\"].lower():\n",
        "    return \"hyundai_node\""
      ],
      "metadata": {
        "id": "gU94ovSPZU4g"
      },
      "id": "gU94ovSPZU4g",
      "execution_count": 73,
      "outputs": []
    },
    {
      "cell_type": "code",
      "source": [
        "from langgraph.graph import StateGraph,START,END\n",
        "builder = StateGraph(TypedDictState)\n",
        "\n",
        "# node\n",
        "builder.add_node(\"main_node\",main_node)\n",
        "builder.add_node(\"honda_node\",honda_node)\n",
        "builder.add_node(\"toyota_node\",toyota_node)\n",
        "builder.add_node(\"hyundai_node\",hyundai_node)\n",
        "builder.add_node(\"decide_node\",decide_node)\n",
        "# logic\n",
        "builder.add_edge(START,\"main_node\")\n",
        "builder.add_conditional_edges(\"main_node\",decide_node)\n",
        "builder.add_edge(\"honda_node\",END)\n",
        "builder.add_edge(\"toyota_node\",END)\n",
        "builder.add_edge(\"hyundai_node\",END)\n",
        "graph = builder.compile()\n",
        "from IPython.display import display, Image\n",
        "display(Image(graph.get_graph(xray=True).draw_mermaid_png()))\n"
      ],
      "metadata": {
        "id": "WbmENbcbZ66c",
        "outputId": "8e80262c-52db-4f3a-a71e-8e75f7b6d6d6",
        "colab": {
          "base_uri": "https://localhost:8080/",
          "height": 281
        }
      },
      "id": "WbmENbcbZ66c",
      "execution_count": 79,
      "outputs": [
        {
          "output_type": "display_data",
          "data": {
            "image/png": "[encoded data removed]",
            "text/plain": [
              "<IPython.core.display.Image object>"
            ]
          },
          "metadata": {}
        }
      ]
    },
    {
      "cell_type": "code",
      "source": [
        "graph.invoke({\"car_name\":\"sonata\"})"
      ],
      "metadata": {
        "id": "Up_BA-Fda8y6",
        "outputId": "bd9bb0b8-2133-49bb-d921-b1b68c7a3f1e",
        "colab": {
          "base_uri": "https://localhost:8080/"
        }
      },
      "id": "Up_BA-Fda8y6",
      "execution_count": 77,
      "outputs": [
        {
          "output_type": "stream",
          "name": "stdout",
          "text": [
            "--Node 1--\n",
            "--Node 4--\n"
          ]
        },
        {
          "output_type": "execute_result",
          "data": {
            "text/plain": [
              "{'car_name': 'sonata is made by', 'car_make': 'Hyundai'}"
            ]
          },
          "metadata": {},
          "execution_count": 77
        }
      ]
    },
    {
      "cell_type": "markdown",
      "source": [
        "#Using Dataclass Module\n"
      ],
      "metadata": {
        "id": "zBZiwuKZiqWV"
      },
      "id": "zBZiwuKZiqWV"
    },
    {
      "cell_type": "code",
      "source": [
        "from dataclasses import dataclass\n",
        "@dataclass\n",
        "class DataclassState:\n",
        "  car_name:str\n",
        "  car_make:str"
      ],
      "metadata": {
        "id": "TVF_JzVzgPXw"
      },
      "id": "TVF_JzVzgPXw",
      "execution_count": 88,
      "outputs": []
    },
    {
      "cell_type": "code",
      "source": [
        "# making nodes\n",
        "def main_node(state):\n",
        "  print(\"--Node 1--\")\n",
        "  return {\"car_name\":state.car_name + \" is made by\"}\n",
        "def honda_node(state):\n",
        "  print(\"--Node 2--\")\n",
        "  return {\"car_make\":\"Honda\"}\n",
        "def toyota_node(state):\n",
        "  print(\"--Node 3--\")\n",
        "  return {\"car_make\":\"Toyota\"}\n",
        "def hyundai_node(state):\n",
        "  print(\"--Node 4--\")\n",
        "  return {\"car_make\":\"Hyundai\"}"
      ],
      "metadata": {
        "id": "TuKgvxglixSF"
      },
      "id": "TuKgvxglixSF",
      "execution_count": 97,
      "outputs": []
    },
    {
      "cell_type": "code",
      "source": [
        "import random\n",
        "def decide_node(state):\n",
        "  if \"civic\" in state.car_name.lower():\n",
        "    return \"honda_node\"\n",
        "  elif \"camry\" in state.car_name.lower():\n",
        "    return \"toyota_node\"\n",
        "  elif \"sonata\" in state.car_name.lower():\n",
        "    return \"hyundai_node\""
      ],
      "metadata": {
        "id": "XsAMbdJqi3aX"
      },
      "id": "XsAMbdJqi3aX",
      "execution_count": 98,
      "outputs": []
    },
    {
      "cell_type": "code",
      "source": [
        "from langgraph.graph import StateGraph,START,END\n",
        "builder = StateGraph(DataclassState)\n",
        "\n",
        "# node\n",
        "builder.add_node(\"main_node\",main_node)\n",
        "builder.add_node(\"honda_node\",honda_node)\n",
        "builder.add_node(\"toyota_node\",toyota_node)\n",
        "builder.add_node(\"hyundai_node\",hyundai_node)\n",
        "builder.add_node(\"decide_node\",decide_node)\n",
        "# logic\n",
        "builder.add_edge(START,\"main_node\")\n",
        "builder.add_conditional_edges(\"main_node\",decide_node)\n",
        "builder.add_edge(\"honda_node\",END)\n",
        "builder.add_edge(\"toyota_node\",END)\n",
        "builder.add_edge(\"hyundai_node\",END)\n",
        "graph = builder.compile()\n",
        "from IPython.display import display, Image\n",
        "display(Image(graph.get_graph(xray=True).draw_mermaid_png()))\n"
      ],
      "metadata": {
        "id": "LiosmSxVjA4x",
        "outputId": "ce74449b-cbb3-4d55-d95c-cafb54cb994c",
        "colab": {
          "base_uri": "https://localhost:8080/",
          "height": 281
        }
      },
      "id": "LiosmSxVjA4x",
      "execution_count": 99,
      "outputs": [
        {
          "output_type": "display_data",
          "data": {
            "image/png": "[encoded data removed]",
            "text/plain": [
              "<IPython.core.display.Image object>"
            ]
          },
          "metadata": {}
        }
      ]
    },
    {
      "cell_type": "code",
      "source": [
        "graph.invoke(DataclassState(car_name=\"civic\",car_make=\"\"))"
      ],
      "metadata": {
        "id": "tM2Qb3EljDgo",
        "outputId": "ff2424b3-7d0f-4e14-9b76-9a8644d92be4",
        "colab": {
          "base_uri": "https://localhost:8080/"
        }
      },
      "id": "tM2Qb3EljDgo",
      "execution_count": 104,
      "outputs": [
        {
          "output_type": "stream",
          "name": "stdout",
          "text": [
            "--Node 1--\n",
            "--Node 2--\n"
          ]
        },
        {
          "output_type": "execute_result",
          "data": {
            "text/plain": [
              "{'car_name': 'civic is made by', 'car_make': 'Honda'}"
            ]
          },
          "metadata": {},
          "execution_count": 104
        }
      ]
    },
    {
      "cell_type": "markdown",
      "source": [
        "#Using Pydantic Module\n"
      ],
      "metadata": {
        "id": "9Ca5Tqt5mojW"
      },
      "id": "9Ca5Tqt5mojW"
    },
    {
      "cell_type": "code",
      "source": [
        "from pydantic import BaseModel,ValidationError,field_validator\n",
        "class PydanticState(BaseModel):\n",
        "  car_name:str\n",
        "  car_make:str\n",
        "  @field_validator(\"car_make\")\n",
        "  @classmethod\n",
        "  def valid_car_make(cls,value):\n",
        "    if value not in [\"Honda\",\"Toyota\",\"Hyundai\"]:\n",
        "      raise ValueError(\"Invalid Car Make\")\n",
        "    return value"
      ],
      "metadata": {
        "id": "qLuDoKwdmr9-"
      },
      "id": "qLuDoKwdmr9-",
      "execution_count": 107,
      "outputs": []
    },
    {
      "cell_type": "code",
      "source": [
        "# lets have a try\n",
        "try:\n",
        "  state = PydanticState(car_name=\"civic\",car_make=\"Hondda\")\n",
        "  state\n",
        "except ValidationError as e:\n",
        "  print(e)\n",
        "#"
      ],
      "metadata": {
        "id": "affEkUlNnsvf",
        "outputId": "9ebb32f5-8ae5-4460-d962-4cc82a5d6d02",
        "colab": {
          "base_uri": "https://localhost:8080/"
        }
      },
      "id": "affEkUlNnsvf",
      "execution_count": 110,
      "outputs": [
        {
          "output_type": "stream",
          "name": "stdout",
          "text": [
            "1 validation error for PydanticState\n",
            "car_make\n",
            "  Value error, Invalid Car Make [type=value_error, input_value='Hondda', input_type=str]\n",
            "    For further information visit https://errors.pydantic.dev/2.11/v/value_error\n"
          ]
        }
      ]
    },
    {
      "cell_type": "code",
      "source": [
        "from langgraph.graph import StateGraph,START,END\n",
        "builder = StateGraph(PydanticState)\n",
        "builder.add_node(\"main_node\",main_node)\n",
        "builder.add_node(\"honda_node\",honda_node)\n",
        "builder.add_node(\"toyota_node\",toyota_node)\n",
        "builder.add_node(\"hyundai_node\",hyundai_node)\n",
        "builder.add_node(\"decide_node\",decide_node)\n",
        "builder.add_edge(START,\"main_node\")\n",
        "builder.add_conditional_edges(\"main_node\",decide_node)\n",
        "builder.add_edge(\"honda_node\",END)\n",
        "builder.add_edge(\"toyota_node\",END)\n",
        "builder.add_edge(\"hyundai_node\",END)\n",
        "graph = builder.compile()\n",
        "from IPython.display import display, Image\n",
        "display(Image(graph.get_graph(xray=True).draw_mermaid_png()))"
      ],
      "metadata": {
        "id": "AMdAFhhcn-Ue",
        "outputId": "8aad9001-5cff-4b89-9386-00456a05be21",
        "colab": {
          "base_uri": "https://localhost:8080/",
          "height": 281
        }
      },
      "id": "AMdAFhhcn-Ue",
      "execution_count": 112,
      "outputs": [
        {
          "output_type": "display_data",
          "data": {
            "image/png": "[encoded data removed]",
            "text/plain": [
              "<IPython.core.display.Image object>"
            ]
          },
          "metadata": {}
        }
      ]
    },
    {
      "cell_type": "code",
      "source": [
        "graph.invoke(PydanticState(car_name=\"civic\",car_make=\"Honda\"))\n",
        "#"
      ],
      "metadata": {
        "id": "-wwNEi0CoV6w",
        "outputId": "fef5c640-3b50-4933-9219-4a85977dd365",
        "colab": {
          "base_uri": "https://localhost:8080/"
        }
      },
      "id": "-wwNEi0CoV6w",
      "execution_count": 114,
      "outputs": [
        {
          "output_type": "stream",
          "name": "stdout",
          "text": [
            "--Node 1--\n",
            "--Node 2--\n"
          ]
        },
        {
          "output_type": "execute_result",
          "data": {
            "text/plain": [
              "{'car_name': 'civic is made by', 'car_make': 'Honda'}"
            ]
          },
          "metadata": {},
          "execution_count": 114
        }
      ]
    },
    {
      "cell_type": "code",
      "source": [],
      "metadata": {
        "id": "ukGUNYgMoZdV"
      },
      "id": "ukGUNYgMoZdV",
      "execution_count": null,
      "outputs": []
    }
  ],
  "metadata": {
    "kernelspec": {
      "display_name": "Python 3 (ipykernel)",
      "language": "python",
      "name": "python3"
    },
    "language_info": {
      "codemirror_mode": {
        "name": "ipython",
        "version": 3
      },
      "file_extension": ".py",
      "mimetype": "text/x-python",
      "name": "python",
      "nbconvert_exporter": "python",
      "pygments_lexer": "ipython3",
      "version": "3.12.1"
    },
    "colab": {
      "provenance": []
    }
  },
  "nbformat": 4,
  "nbformat_minor": 5
}